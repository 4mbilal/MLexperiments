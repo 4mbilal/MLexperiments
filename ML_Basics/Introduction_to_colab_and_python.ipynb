{
 "cells": [
  {
   "cell_type": "markdown",
   "metadata": {
    "colab_type": "text",
    "id": "YHI3vyhv5p85"
   },
   "source": [
    "## **Introduction to Colab and Python**"
   ]
  },
  {
   "cell_type": "markdown",
   "metadata": {
    "colab_type": "text",
    "id": "F8YVA_634OFk"
   },
   "source": [
    "Welcome to this introductory Google Colab Notebook. Colab is a Python development environment that runs in the browser using Google Cloud. A notebook is a platform where you can mix explanatory text and code in different cells. This setup is quite useful for programming tutorials. This notebook is a quick introduction to the Python programming language and the environment. \n",
    "You can play around various Python language syntax. Feel free to edit the code to develop a deeper understanding. If you have further questions or run into troubles while editing the code, you are highly encouraged to search further information using Google search engine. \n",
    "\n",
    "**Credits:** This Notebook is heavily inspired from the Notebook by Google staff https://github.com/tensorflow/examples/blob/master/courses/udacity_intro_to_tensorflow_for_deep_learning/l01c01_introduction_to_colab_and_python.ipynb"
   ]
  },
  {
   "cell_type": "markdown",
   "metadata": {
    "colab_type": "text",
    "id": "v3ht9w0eJbsn"
   },
   "source": [
    "# Hello Python in Google Colab World\n",
    "\n",
    "Let's greet the Python and Google Colab world using the simplest Python code shown below. To run this code just hover the mouse over [ ] and press the play button to the upper left. Or press shift-enter to execute.\n",
    "\n",
    "Since this is the first piece of code in this notebook, it will take a few seconds to execute. During this time, Colab allocates some CPU/GPU/RAM resources on its cloud computing platform. Once done, you can see these resources on the top right corner (RAM/Disk). "
   ]
  },
  {
   "cell_type": "code",
   "execution_count": 2,
   "metadata": {
    "colab": {
     "base_uri": "https://localhost:8080/",
     "height": 34
    },
    "colab_type": "code",
    "executionInfo": {
     "elapsed": 765,
     "status": "ok",
     "timestamp": 1601040077356,
     "user": {
      "displayName": "Muhammad Bilal",
      "photoUrl": "https://lh3.googleusercontent.com/a-/AOh14GgUMvqeooNZQPRh_Nck3UoxtrfkF1atThw80sA-=s64",
      "userId": "09409444520852400857"
     },
     "user_tz": -180
    },
    "id": "X9uIpOS2zx7k",
    "outputId": "9bbe9529-78eb-4482-9218-9cd3582e206e"
   },
   "outputs": [
    {
     "name": "stdout",
     "output_type": "stream",
     "text": [
      "Hello Python in Google Colab World\n"
     ]
    }
   ],
   "source": [
    "print(\"Hello Python in Google Colab World\")"
   ]
  },
  {
   "cell_type": "markdown",
   "metadata": {
    "colab_type": "text",
    "id": "wwJGmDrQ0EoB"
   },
   "source": [
    "## Functions, Conditional Statements and Loops/Iterations\n",
    "Let's create a Python function, and call it from a loop."
   ]
  },
  {
   "cell_type": "code",
   "execution_count": 3,
   "metadata": {
    "colab": {
     "base_uri": "https://localhost:8080/",
     "height": 218
    },
    "colab_type": "code",
    "executionInfo": {
     "elapsed": 755,
     "status": "ok",
     "timestamp": 1601040077357,
     "user": {
      "displayName": "Muhammad Bilal",
      "photoUrl": "https://lh3.googleusercontent.com/a-/AOh14GgUMvqeooNZQPRh_Nck3UoxtrfkF1atThw80sA-=s64",
      "userId": "09409444520852400857"
     },
     "user_tz": -180
    },
    "id": "pRllo2HLfXiu",
    "outputId": "1ed9835c-d84b-4619-a06e-d5af862f7c46"
   },
   "outputs": [
    {
     "name": "stdout",
     "output_type": "stream",
     "text": [
      "Iteration # 8\n",
      "8 is less than 10\n",
      "8+16=24\n",
      "Iteration # 13\n",
      "13 is less than 20 but more than or equal to 10\n",
      "13+26=39\n",
      "Iteration # 18\n",
      "18 is less than 20 but more than or equal to 10\n",
      "18+36=54\n",
      "Iteration # 23\n",
      "23 is more than or equal to 20\n",
      "23+46=69\n"
     ]
    }
   ],
   "source": [
    "def HelloWorldXY(x, y):\n",
    "  if (x < 10):\n",
    "    print(\"{} is less than 10\".format(x))\n",
    "  elif (x < 20):\n",
    "    print(\"{} is less than 20 but more than or equal to 10\".format(x))\n",
    "  else:\n",
    "    print(\"{} is more than or equal to 20\".format(x))\n",
    "  return x + y\n",
    "\n",
    "for i in range(8, 25, 5):  # i=8, 13, 18, 23 (start, stop, step)\n",
    "  print(\"Iteration # {}\".format(i))\n",
    "  r = HelloWorldXY(i,i*2)\n",
    "  print(\"{}+{}={}\".format(i,i*2,r))"
   ]
  },
  {
   "cell_type": "code",
   "execution_count": 4,
   "metadata": {
    "colab": {
     "base_uri": "https://localhost:8080/",
     "height": 50
    },
    "colab_type": "code",
    "executionInfo": {
     "elapsed": 750,
     "status": "ok",
     "timestamp": 1601040077358,
     "user": {
      "displayName": "Muhammad Bilal",
      "photoUrl": "https://lh3.googleusercontent.com/a-/AOh14GgUMvqeooNZQPRh_Nck3UoxtrfkF1atThw80sA-=s64",
      "userId": "09409444520852400857"
     },
     "user_tz": -180
    },
    "id": "lHNmDCh0JpVP",
    "outputId": "92b43f20-0847-40d2-93c0-9a6ee996596b"
   },
   "outputs": [
    {
     "name": "stdout",
     "output_type": "stream",
     "text": [
      "1 is less than 10\n",
      "3\n"
     ]
    }
   ],
   "source": [
    "print(HelloWorldXY(1,2))"
   ]
  },
  {
   "cell_type": "markdown",
   "metadata": {
    "colab_type": "text",
    "id": "kiZG7uhm8qCF"
   },
   "source": [
    "In most computer languages, array indexing starts at 0 (Matlab excluded). Thus, in order to access individual members of an array you have to iterate (loop) starting at 0 all the way to 'N-1' where N is the size of the array."
   ]
  },
  {
   "cell_type": "code",
   "execution_count": 5,
   "metadata": {
    "colab": {
     "base_uri": "https://localhost:8080/",
     "height": 319
    },
    "colab_type": "code",
    "executionInfo": {
     "elapsed": 744,
     "status": "ok",
     "timestamp": 1601040077358,
     "user": {
      "displayName": "Muhammad Bilal",
      "photoUrl": "https://lh3.googleusercontent.com/a-/AOh14GgUMvqeooNZQPRh_Nck3UoxtrfkF1atThw80sA-=s64",
      "userId": "09409444520852400857"
     },
     "user_tz": -180
    },
    "id": "m8YQN1H41L-Y",
    "outputId": "2bb8e45d-9a8f-46cd-8dc3-3dfc2f9c0d7b"
   },
   "outputs": [
    {
     "name": "stdout",
     "output_type": "stream",
     "text": [
      "Iterate over the members of an array/list of size 5\n",
      "0\n",
      "1\n",
      "2\n",
      "3\n",
      "4\n",
      "Iterate using explicit index\n",
      "0\n",
      "1\n",
      "2\n",
      "3\n",
      "4\n",
      "Iterate using while loop\n",
      "0\n",
      "1\n",
      "2\n",
      "3\n",
      "4\n"
     ]
    }
   ],
   "source": [
    "print(\"Iterate over the members of an array/list of size 5\")\n",
    "N = 5\n",
    "for i in range(N):\n",
    "  print(i)\n",
    "\n",
    "print(\"Iterate using explicit index\")\n",
    "for i in [0,1,2,3,4]:\n",
    "  print(i)\n",
    "\n",
    "print(\"Iterate using while loop\")\n",
    "i = 0\n",
    "while i < N:\n",
    "  print(i)\n",
    "  i += 1"
   ]
  },
  {
   "cell_type": "code",
   "execution_count": 6,
   "metadata": {
    "colab": {
     "base_uri": "https://localhost:8080/",
     "height": 50
    },
    "colab_type": "code",
    "executionInfo": {
     "elapsed": 711,
     "status": "ok",
     "timestamp": 1601040077359,
     "user": {
      "displayName": "Muhammad Bilal",
      "photoUrl": "https://lh3.googleusercontent.com/a-/AOh14GgUMvqeooNZQPRh_Nck3UoxtrfkF1atThw80sA-=s64",
      "userId": "09409444520852400857"
     },
     "user_tz": -180
    },
    "id": "vIgmFZq4zszl",
    "outputId": "598c8b92-4a24-495e-ab95-7bdfeeae4e2b"
   },
   "outputs": [
    {
     "name": "stdout",
     "output_type": "stream",
     "text": [
      "Python supports standard key words like continue and break\n",
      "Entered while\n"
     ]
    }
   ],
   "source": [
    "print(\"Python supports standard key words like continue and break\")\n",
    "while True:\n",
    "  print(\"Entered while\")\n",
    "  break"
   ]
  },
  {
   "cell_type": "markdown",
   "metadata": {
    "colab_type": "text",
    "id": "5QyOUhFw1OUX"
   },
   "source": [
    "## Numpy and lists\n",
    "Python has lists built into the language.\n",
    "However, a library called Numpy can be used as well for this purpose.\n",
    "Numpy gives you lots of support functions that are useful when doing Machine Learning.\n",
    "\n",
    "Numpy libaray is \"imported\" using an import statement. This statement makes the entire numpy package available and we can access those symbols using the abbreviated 'np' syntax."
   ]
  },
  {
   "cell_type": "code",
   "execution_count": 7,
   "metadata": {
    "colab": {
     "base_uri": "https://localhost:8080/",
     "height": 185
    },
    "colab_type": "code",
    "executionInfo": {
     "elapsed": 700,
     "status": "ok",
     "timestamp": 1601040077359,
     "user": {
      "displayName": "Muhammad Bilal",
      "photoUrl": "https://lh3.googleusercontent.com/a-/AOh14GgUMvqeooNZQPRh_Nck3UoxtrfkF1atThw80sA-=s64",
      "userId": "09409444520852400857"
     },
     "user_tz": -180
    },
    "id": "4Dxk4q-jzEy4",
    "outputId": "e9a10211-4267-4fe9-a954-061b701abe25"
   },
   "outputs": [
    {
     "name": "stdout",
     "output_type": "stream",
     "text": [
      "Current array: ['Hello' 'World' '!']\n",
      "Printing each element one by one\n",
      "Hello\n",
      "World\n",
      "!\n",
      "\n",
      "Printing each element and their index\n",
      "Index: 0, was: Hello\n",
      "Index: 1, was: World\n",
      "Index: 2, was: !\n"
     ]
    }
   ],
   "source": [
    "import numpy as np  # Make numpy available using np.\n",
    "\n",
    "# Create a numpy character/text array, and append an element\n",
    "a = np.array([\"Hello\", \"World\"])\n",
    "a = np.append(a, \"!\")\n",
    "print(\"Current array: {}\".format(a))\n",
    "print(\"Printing each element one by one\")\n",
    "for i in a:\n",
    "  print(i)\n",
    "\n",
    "print(\"\\nPrinting each element and their index\")\n",
    "for i,e in enumerate(a):\n",
    "  print(\"Index: {}, was: {}\".format(i, e))"
   ]
  },
  {
   "cell_type": "code",
   "execution_count": 8,
   "metadata": {
    "colab": {
     "base_uri": "https://localhost:8080/",
     "height": 101
    },
    "colab_type": "code",
    "executionInfo": {
     "elapsed": 1051,
     "status": "ok",
     "timestamp": 1601040077725,
     "user": {
      "displayName": "Muhammad Bilal",
      "photoUrl": "https://lh3.googleusercontent.com/a-/AOh14GgUMvqeooNZQPRh_Nck3UoxtrfkF1atThw80sA-=s64",
      "userId": "09409444520852400857"
     },
     "user_tz": -180
    },
    "id": "RTa8_9G3LV03",
    "outputId": "70193641-4082-437e-e01b-1360023aa267"
   },
   "outputs": [
    {
     "name": "stdout",
     "output_type": "stream",
     "text": [
      "\n",
      "Let's do some basic maths on arrays\n",
      "Max: 4\n",
      "Average: 2.0\n",
      "Max index: 2\n"
     ]
    }
   ],
   "source": [
    "print(\"\\nLet's do some basic maths on arrays\")\n",
    "b = np.array([0,1,4,3,2])\n",
    "print(\"Max: {}\".format(np.max(b)))\n",
    "print(\"Average: {}\".format(np.average(b)))\n",
    "print(\"Max index: {}\".format(np.argmax(b)))"
   ]
  },
  {
   "cell_type": "code",
   "execution_count": 9,
   "metadata": {
    "colab": {
     "base_uri": "https://localhost:8080/",
     "height": 67
    },
    "colab_type": "code",
    "executionInfo": {
     "elapsed": 1046,
     "status": "ok",
     "timestamp": 1601040077727,
     "user": {
      "displayName": "Muhammad Bilal",
      "photoUrl": "https://lh3.googleusercontent.com/a-/AOh14GgUMvqeooNZQPRh_Nck3UoxtrfkF1atThw80sA-=s64",
      "userId": "09409444520852400857"
     },
     "user_tz": -180
    },
    "id": "9YaGj5n4LW7P",
    "outputId": "59971ec9-af0b-486e-f005-8fb642e55911"
   },
   "outputs": [
    {
     "name": "stdout",
     "output_type": "stream",
     "text": [
      "\n",
      "You can print the data type of anything\n",
      "Type of b: <class 'numpy.ndarray'>, type of b[0]: <class 'numpy.int32'>\n"
     ]
    }
   ],
   "source": [
    "print(\"\\nYou can print the data type of anything\")\n",
    "print(\"Type of b: {}, type of b[0]: {}\".format(type(b), type(b[0])))"
   ]
  },
  {
   "cell_type": "code",
   "execution_count": 10,
   "metadata": {
    "colab": {
     "base_uri": "https://localhost:8080/",
     "height": 101
    },
    "colab_type": "code",
    "executionInfo": {
     "elapsed": 1037,
     "status": "ok",
     "timestamp": 1601040077728,
     "user": {
      "displayName": "Muhammad Bilal",
      "photoUrl": "https://lh3.googleusercontent.com/a-/AOh14GgUMvqeooNZQPRh_Nck3UoxtrfkF1atThw80sA-=s64",
      "userId": "09409444520852400857"
     },
     "user_tz": -180
    },
    "id": "V6ilVhi9LXn_",
    "outputId": "70001c8e-23dd-4ca7-815d-da6a1bece7c6"
   },
   "outputs": [
    {
     "name": "stdout",
     "output_type": "stream",
     "text": [
      "\n",
      "Use numpy to create a [3,3] dimension array with random numbers\n",
      "[[0.51341429 0.42692127 0.76303665]\n",
      " [0.30398885 0.25358771 0.83048788]\n",
      " [0.17616591 0.07134192 0.71883389]]\n"
     ]
    }
   ],
   "source": [
    "print(\"\\nUse numpy to create a [3,3] dimension array with random numbers\")\n",
    "c = np.random.rand(3, 3)\n",
    "print(c)"
   ]
  },
  {
   "cell_type": "code",
   "execution_count": 11,
   "metadata": {
    "colab": {
     "base_uri": "https://localhost:8080/",
     "height": 118
    },
    "colab_type": "code",
    "executionInfo": {
     "elapsed": 1025,
     "status": "ok",
     "timestamp": 1601040077728,
     "user": {
      "displayName": "Muhammad Bilal",
      "photoUrl": "https://lh3.googleusercontent.com/a-/AOh14GgUMvqeooNZQPRh_Nck3UoxtrfkF1atThw80sA-=s64",
      "userId": "09409444520852400857"
     },
     "user_tz": -180
    },
    "id": "W_Q-DkFCLYGA",
    "outputId": "5ce7d9b3-283a-4ef6-e25c-8597bb8bdc78"
   },
   "outputs": [
    {
     "name": "stdout",
     "output_type": "stream",
     "text": [
      "\n",
      "You can print the dimensions of arrays\n",
      "Shape of a: (3,)\n",
      "Shape of b: (5,)\n",
      "Shape of c: (3, 3)\n",
      "...Observe, Python uses both [0,1,2] and (0,1,2) to specify lists\n"
     ]
    }
   ],
   "source": [
    "print(\"\\nYou can print the dimensions of arrays\")\n",
    "print(\"Shape of a: {}\".format(a.shape))\n",
    "print(\"Shape of b: {}\".format(b.shape))\n",
    "print(\"Shape of c: {}\".format(c.shape))\n",
    "print(\"...Observe, Python uses both [0,1,2] and (0,1,2) to specify lists\")"
   ]
  },
  {
   "cell_type": "markdown",
   "metadata": {
    "colab_type": "text",
    "id": "c-Jk4dG91dvD"
   },
   "source": [
    "## Colab Specifics"
   ]
  },
  {
   "cell_type": "markdown",
   "metadata": {
    "colab_type": "text",
    "id": "G0cGd8sHEmKi"
   },
   "source": [
    "Colab is a virtual machine you can access directly. To run commands at the VM's terminal, prefix the line with an exclamation point (!).\n"
   ]
  },
  {
   "cell_type": "code",
   "execution_count": null,
   "metadata": {
    "colab": {},
    "colab_type": "code",
    "id": "cLkfhyzq0W2y"
   },
   "outputs": [],
   "source": [
    "print(\"\\nDoing $ls on filesystem\")\n",
    "!ls -l\n",
    "!pwd"
   ]
  },
  {
   "cell_type": "code",
   "execution_count": null,
   "metadata": {
    "colab": {
     "base_uri": "https://localhost:8080/",
     "height": 50
    },
    "colab_type": "code",
    "executionInfo": {
     "elapsed": 3332,
     "status": "ok",
     "timestamp": 1601040101680,
     "user": {
      "displayName": "Muhammad Bilal",
      "photoUrl": "https://lh3.googleusercontent.com/a-/AOh14GgUMvqeooNZQPRh_Nck3UoxtrfkF1atThw80sA-=s64",
      "userId": "09409444520852400857"
     },
     "user_tz": -180
    },
    "id": "gR2WTN1cOZ1n",
    "outputId": "b066769e-0024-4dd4-a4bb-f408f5bbad4b"
   },
   "outputs": [],
   "source": [
    "print(\"Install numpy\")  # Just for test, numpy is actually preinstalled in all Colab instances\n",
    "!pip install numpy"
   ]
  }
 ],
 "metadata": {
  "colab": {
   "collapsed_sections": [],
   "name": "EE482 - Introduction_to_colab_and_python.ipynb",
   "provenance": [
    {
     "file_id": "https://github.com/tensorflow/examples/blob/master/courses/udacity_intro_to_tensorflow_for_deep_learning/l01c01_introduction_to_colab_and_python.ipynb",
     "timestamp": 1601032306466
    }
   ]
  },
  "kernelspec": {
   "display_name": "tf-gpu",
   "language": "python",
   "name": "python3"
  },
  "language_info": {
   "codemirror_mode": {
    "name": "ipython",
    "version": 3
   },
   "file_extension": ".py",
   "mimetype": "text/x-python",
   "name": "python",
   "nbconvert_exporter": "python",
   "pygments_lexer": "ipython3",
   "version": "3.10.16"
  }
 },
 "nbformat": 4,
 "nbformat_minor": 0
}
